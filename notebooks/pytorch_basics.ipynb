{
  "nbformat": 4,
  "nbformat_minor": 0,
  "metadata": {
    "colab": {
      "provenance": [],
      "gpuType": "T4"
    },
    "kernelspec": {
      "name": "python3",
      "display_name": "Python 3"
    },
    "language_info": {
      "name": "python"
    }
  },
  "cells": [
    {
      "cell_type": "code",
      "execution_count": 1,
      "metadata": {
        "id": "dxoefImMDLTE"
      },
      "outputs": [],
      "source": [
        "import torch\n",
        "import pandas as pd\n",
        "import numpy as np\n",
        "import matplotlib.pyplot as plt"
      ]
    },
    {
      "cell_type": "code",
      "source": [
        "import torch.nn as nn\n",
        "import torch.nn.functional as F"
      ],
      "metadata": {
        "id": "_b39QK6CSAEl"
      },
      "execution_count": 2,
      "outputs": []
    },
    {
      "cell_type": "markdown",
      "source": [
        "**Initializing tensors** and getting their values out"
      ],
      "metadata": {
        "id": "FgUCpXipZ0Bf"
      }
    },
    {
      "cell_type": "code",
      "source": [
        "scalar = torch.tensor(7).to(device='cuda')"
      ],
      "metadata": {
        "id": "ec19D2Dacqt0"
      },
      "execution_count": 3,
      "outputs": []
    },
    {
      "cell_type": "code",
      "source": [
        "scalar.shape"
      ],
      "metadata": {
        "colab": {
          "base_uri": "https://localhost:8080/"
        },
        "id": "TnPSBQMBdrDc",
        "outputId": "5b26636d-5516-4637-932e-7d423b7b4deb"
      },
      "execution_count": 4,
      "outputs": [
        {
          "output_type": "execute_result",
          "data": {
            "text/plain": [
              "torch.Size([])"
            ]
          },
          "metadata": {},
          "execution_count": 4
        }
      ]
    },
    {
      "cell_type": "markdown",
      "source": [
        "the ***item()*** works only on scalars. Returns the value of this tensor as a standard Python number. This only works for tensors with one element.\n",
        "\n"
      ],
      "metadata": {
        "id": "ldkVIuZkrvCe"
      }
    },
    {
      "cell_type": "code",
      "source": [
        "scalar.item(), scalar.type(), scalar.device"
      ],
      "metadata": {
        "colab": {
          "base_uri": "https://localhost:8080/"
        },
        "id": "3cvaluNMdtpV",
        "outputId": "229169f4-9696-407e-c576-96d5abdffdd8"
      },
      "execution_count": 5,
      "outputs": [
        {
          "output_type": "execute_result",
          "data": {
            "text/plain": [
              "(7, 'torch.cuda.LongTensor', device(type='cuda', index=0))"
            ]
          },
          "metadata": {},
          "execution_count": 5
        }
      ]
    },
    {
      "cell_type": "code",
      "source": [
        "float(scalar), scalar.cpu().numpy()"
      ],
      "metadata": {
        "colab": {
          "base_uri": "https://localhost:8080/"
        },
        "id": "fLgXYkMwdySa",
        "outputId": "c2ef270b-b3e7-4614-c105-c1107d35a7cc"
      },
      "execution_count": 6,
      "outputs": [
        {
          "output_type": "execute_result",
          "data": {
            "text/plain": [
              "(7.0, array(7))"
            ]
          },
          "metadata": {},
          "execution_count": 6
        }
      ]
    },
    {
      "cell_type": "code",
      "source": [
        "vector = torch.tensor([3.,7.], device='cuda')"
      ],
      "metadata": {
        "id": "S0tJ-Kstm16t"
      },
      "execution_count": 7,
      "outputs": []
    },
    {
      "cell_type": "markdown",
      "source": [
        "**.tolist()** Returns the tensor as a (nested) list. For scalars, a standard Python number is returned, just like with item(). Tensors are automatically moved to the CPU first if necessary."
      ],
      "metadata": {
        "id": "qiN0t5qUsqpk"
      }
    },
    {
      "cell_type": "code",
      "source": [
        "vector, vector.type()"
      ],
      "metadata": {
        "colab": {
          "base_uri": "https://localhost:8080/"
        },
        "id": "gkJ2dFc8nEba",
        "outputId": "639e29eb-c944-4613-f32d-f469e55152ee"
      },
      "execution_count": 8,
      "outputs": [
        {
          "output_type": "execute_result",
          "data": {
            "text/plain": [
              "(tensor([3., 7.], device='cuda:0'), 'torch.cuda.FloatTensor')"
            ]
          },
          "metadata": {},
          "execution_count": 8
        }
      ]
    },
    {
      "cell_type": "code",
      "source": [
        "vector.cpu().numpy(), vector.tolist()"
      ],
      "metadata": {
        "colab": {
          "base_uri": "https://localhost:8080/"
        },
        "id": "HC1mFw5_ngxF",
        "outputId": "b17597bc-f406-492e-e475-0564f9701e01"
      },
      "execution_count": 9,
      "outputs": [
        {
          "output_type": "execute_result",
          "data": {
            "text/plain": [
              "(array([3., 7.], dtype=float32), [3.0, 7.0])"
            ]
          },
          "metadata": {},
          "execution_count": 9
        }
      ]
    },
    {
      "cell_type": "code",
      "source": [
        "vector.shape"
      ],
      "metadata": {
        "colab": {
          "base_uri": "https://localhost:8080/"
        },
        "id": "tq5cZiFJn-ks",
        "outputId": "8f25c894-80c0-4fb9-8e78-4278e033d8a2"
      },
      "execution_count": 10,
      "outputs": [
        {
          "output_type": "execute_result",
          "data": {
            "text/plain": [
              "torch.Size([2])"
            ]
          },
          "metadata": {},
          "execution_count": 10
        }
      ]
    },
    {
      "cell_type": "code",
      "source": [
        "matrix = torch.tensor([[3,4,5],[6,7,8]], device='cuda')"
      ],
      "metadata": {
        "id": "d835mpTxp_ZT"
      },
      "execution_count": 11,
      "outputs": []
    },
    {
      "cell_type": "code",
      "source": [
        "matrix"
      ],
      "metadata": {
        "colab": {
          "base_uri": "https://localhost:8080/"
        },
        "id": "E-DqbJeyqHg0",
        "outputId": "a49d14b1-c029-4a9d-94b3-5fc8bb2edc8c"
      },
      "execution_count": 12,
      "outputs": [
        {
          "output_type": "execute_result",
          "data": {
            "text/plain": [
              "tensor([[3, 4, 5],\n",
              "        [6, 7, 8]], device='cuda:0')"
            ]
          },
          "metadata": {},
          "execution_count": 12
        }
      ]
    },
    {
      "cell_type": "code",
      "source": [
        "matrix.shape, matrix.ndim, matrix.dtype"
      ],
      "metadata": {
        "colab": {
          "base_uri": "https://localhost:8080/"
        },
        "id": "cTuhQSFQqJl6",
        "outputId": "d51f2ec7-2fb9-419a-e464-ddd223cb09ca"
      },
      "execution_count": 13,
      "outputs": [
        {
          "output_type": "execute_result",
          "data": {
            "text/plain": [
              "(torch.Size([2, 3]), 2, torch.int64)"
            ]
          },
          "metadata": {},
          "execution_count": 13
        }
      ]
    },
    {
      "cell_type": "code",
      "source": [
        "matrix.tolist()"
      ],
      "metadata": {
        "colab": {
          "base_uri": "https://localhost:8080/"
        },
        "id": "mvxQLjHYtTOG",
        "outputId": "917add1e-715f-4d0b-e119-02e70cb43de5"
      },
      "execution_count": 14,
      "outputs": [
        {
          "output_type": "execute_result",
          "data": {
            "text/plain": [
              "[[3, 4, 5], [6, 7, 8]]"
            ]
          },
          "metadata": {},
          "execution_count": 14
        }
      ]
    },
    {
      "cell_type": "code",
      "source": [
        "tensor = torch.randn(size=(3,4))"
      ],
      "metadata": {
        "id": "En5hloC3qrvp"
      },
      "execution_count": 15,
      "outputs": []
    },
    {
      "cell_type": "code",
      "source": [
        "tensor"
      ],
      "metadata": {
        "colab": {
          "base_uri": "https://localhost:8080/"
        },
        "id": "8yxF2rv_qwXN",
        "outputId": "ab148113-426a-4784-c23f-d976dcdcf261"
      },
      "execution_count": 16,
      "outputs": [
        {
          "output_type": "execute_result",
          "data": {
            "text/plain": [
              "tensor([[ 0.2850,  1.4392,  1.5652,  0.5025],\n",
              "        [-0.5373, -0.4661,  1.5290,  1.2980],\n",
              "        [ 0.8045,  0.7029, -0.9047,  0.4238]])"
            ]
          },
          "metadata": {},
          "execution_count": 16
        }
      ]
    },
    {
      "cell_type": "code",
      "source": [
        "tensor.device, tensor.dtype"
      ],
      "metadata": {
        "colab": {
          "base_uri": "https://localhost:8080/"
        },
        "id": "sPF6daiXq-xk",
        "outputId": "d37d8b09-b4f2-4b22-d616-9f116b467ecc"
      },
      "execution_count": 17,
      "outputs": [
        {
          "output_type": "execute_result",
          "data": {
            "text/plain": [
              "(device(type='cpu'), torch.float32)"
            ]
          },
          "metadata": {},
          "execution_count": 17
        }
      ]
    },
    {
      "cell_type": "code",
      "source": [
        "tensor.tolist()"
      ],
      "metadata": {
        "colab": {
          "base_uri": "https://localhost:8080/"
        },
        "id": "qVA59SritfuD",
        "outputId": "60bc6c05-ceae-4c25-e4e8-2bc2faaeccf0"
      },
      "execution_count": 18,
      "outputs": [
        {
          "output_type": "execute_result",
          "data": {
            "text/plain": [
              "[[0.2850387990474701,\n",
              "  1.4391846656799316,\n",
              "  1.5652246475219727,\n",
              "  0.5024697184562683],\n",
              " [-0.5372500419616699,\n",
              "  -0.4661068320274353,\n",
              "  1.5289808511734009,\n",
              "  1.2979997396469116],\n",
              " [0.8045080900192261,\n",
              "  0.70290607213974,\n",
              "  -0.9046683311462402,\n",
              "  0.42376425862312317]]"
            ]
          },
          "metadata": {},
          "execution_count": 18
        }
      ]
    },
    {
      "cell_type": "code",
      "source": [
        "tensor.cpu().numpy()"
      ],
      "metadata": {
        "colab": {
          "base_uri": "https://localhost:8080/"
        },
        "id": "gstMoa0qtpfl",
        "outputId": "02815568-c314-45b6-d00a-84ed9764ad20"
      },
      "execution_count": 19,
      "outputs": [
        {
          "output_type": "execute_result",
          "data": {
            "text/plain": [
              "array([[ 0.2850388 ,  1.4391847 ,  1.5652246 ,  0.5024697 ],\n",
              "       [-0.53725004, -0.46610683,  1.5289809 ,  1.2979997 ],\n",
              "       [ 0.8045081 ,  0.7029061 , -0.90466833,  0.42376426]],\n",
              "      dtype=float32)"
            ]
          },
          "metadata": {},
          "execution_count": 19
        }
      ]
    },
    {
      "cell_type": "markdown",
      "source": [
        "**Zeroes** and **Ones**"
      ],
      "metadata": {
        "id": "ubqdPqBquzz3"
      }
    },
    {
      "cell_type": "code",
      "source": [
        "zeros = torch.zeros(size=(3,4))"
      ],
      "metadata": {
        "id": "HjOHrGryuxZM"
      },
      "execution_count": 20,
      "outputs": []
    },
    {
      "cell_type": "code",
      "source": [
        "zeros"
      ],
      "metadata": {
        "colab": {
          "base_uri": "https://localhost:8080/"
        },
        "id": "gmJwKvsdu5lK",
        "outputId": "6ac73b1c-c680-4a45-b1f6-a53d19679a37"
      },
      "execution_count": 21,
      "outputs": [
        {
          "output_type": "execute_result",
          "data": {
            "text/plain": [
              "tensor([[0., 0., 0., 0.],\n",
              "        [0., 0., 0., 0.],\n",
              "        [0., 0., 0., 0.]])"
            ]
          },
          "metadata": {},
          "execution_count": 21
        }
      ]
    },
    {
      "cell_type": "code",
      "source": [
        "zeros.dtype"
      ],
      "metadata": {
        "colab": {
          "base_uri": "https://localhost:8080/"
        },
        "id": "n_2OFZdbx0hT",
        "outputId": "666aaf48-5a77-4a0a-dc11-aa1e460d06e3"
      },
      "execution_count": 22,
      "outputs": [
        {
          "output_type": "execute_result",
          "data": {
            "text/plain": [
              "torch.float32"
            ]
          },
          "metadata": {},
          "execution_count": 22
        }
      ]
    },
    {
      "cell_type": "code",
      "source": [
        "ones = torch.ones(size=(3,4))"
      ],
      "metadata": {
        "id": "-COLf6YHu69D"
      },
      "execution_count": 23,
      "outputs": []
    },
    {
      "cell_type": "code",
      "source": [
        "ones"
      ],
      "metadata": {
        "colab": {
          "base_uri": "https://localhost:8080/"
        },
        "id": "d70O8XD4u_SU",
        "outputId": "201d38a3-0c17-4768-fe72-bdada2bbcf09"
      },
      "execution_count": 24,
      "outputs": [
        {
          "output_type": "execute_result",
          "data": {
            "text/plain": [
              "tensor([[1., 1., 1., 1.],\n",
              "        [1., 1., 1., 1.],\n",
              "        [1., 1., 1., 1.]])"
            ]
          },
          "metadata": {},
          "execution_count": 24
        }
      ]
    },
    {
      "cell_type": "code",
      "source": [
        "torch.ones_like(tensor)"
      ],
      "metadata": {
        "colab": {
          "base_uri": "https://localhost:8080/"
        },
        "id": "R0b-Gg1kvBnv",
        "outputId": "b8e6fa3f-db62-4cec-cf4d-cbb3a68aaa57"
      },
      "execution_count": 25,
      "outputs": [
        {
          "output_type": "execute_result",
          "data": {
            "text/plain": [
              "tensor([[1., 1., 1., 1.],\n",
              "        [1., 1., 1., 1.],\n",
              "        [1., 1., 1., 1.]])"
            ]
          },
          "metadata": {},
          "execution_count": 25
        }
      ]
    },
    {
      "cell_type": "code",
      "source": [],
      "metadata": {
        "id": "1bmYXGwlvSfC"
      },
      "execution_count": 25,
      "outputs": []
    },
    {
      "cell_type": "markdown",
      "source": [
        "## Creating tensor from a range\n",
        "\n",
        "\n"
      ],
      "metadata": {
        "id": "NHfaiPVxvTnn"
      }
    },
    {
      "cell_type": "code",
      "source": [
        "zero2ten = torch.arange(1, 10, .5)"
      ],
      "metadata": {
        "id": "ko8cE87svnWm"
      },
      "execution_count": 26,
      "outputs": []
    },
    {
      "cell_type": "code",
      "source": [
        "zero2ten.dtype"
      ],
      "metadata": {
        "colab": {
          "base_uri": "https://localhost:8080/"
        },
        "id": "EwF7ZIwqvvvy",
        "outputId": "aa1b77a4-c96c-4984-976e-f760b837be21"
      },
      "execution_count": 27,
      "outputs": [
        {
          "output_type": "execute_result",
          "data": {
            "text/plain": [
              "torch.float32"
            ]
          },
          "metadata": {},
          "execution_count": 27
        }
      ]
    },
    {
      "cell_type": "code",
      "source": [
        "zero2ten"
      ],
      "metadata": {
        "colab": {
          "base_uri": "https://localhost:8080/"
        },
        "id": "wv2WTKHbv0Lm",
        "outputId": "b470e58e-6027-48a5-e7c0-528e12f9bcff"
      },
      "execution_count": 28,
      "outputs": [
        {
          "output_type": "execute_result",
          "data": {
            "text/plain": [
              "tensor([1.0000, 1.5000, 2.0000, 2.5000, 3.0000, 3.5000, 4.0000, 4.5000, 5.0000,\n",
              "        5.5000, 6.0000, 6.5000, 7.0000, 7.5000, 8.0000, 8.5000, 9.0000, 9.5000])"
            ]
          },
          "metadata": {},
          "execution_count": 28
        }
      ]
    },
    {
      "cell_type": "markdown",
      "source": [
        "# Torch Data Types\n",
        "- All supported datatypes can be found here: https://pytorch.org/docs/stable/tensors.html#data-types\n",
        "- By default all decimal take the datatype **torch.float32**\n",
        "- If it is an integer tensor the datatype **torch.int64**\n",
        "- Reducing the precision (i.e converting torch.float32 -> torch.float16)\n",
        " - saves memory\n",
        " - reduces compute time\n",
        " - however, performance takes a hit"
      ],
      "metadata": {
        "id": "fOzcTeK8zTgy"
      }
    },
    {
      "cell_type": "code",
      "source": [
        "tensor16 = torch.rand(size=(3,4)).type(torch.float16)"
      ],
      "metadata": {
        "id": "Tm23JlTPzYLJ"
      },
      "execution_count": 29,
      "outputs": []
    },
    {
      "cell_type": "code",
      "source": [
        "tensor16"
      ],
      "metadata": {
        "colab": {
          "base_uri": "https://localhost:8080/"
        },
        "id": "nWVKWDWq0P1U",
        "outputId": "b794392e-e73b-427d-f294-f710510a2b9c"
      },
      "execution_count": 30,
      "outputs": [
        {
          "output_type": "execute_result",
          "data": {
            "text/plain": [
              "tensor([[0.9775, 0.9541, 0.1236, 0.0898],\n",
              "        [0.0547, 0.4666, 0.0670, 0.9258],\n",
              "        [0.7988, 0.4463, 0.9712, 0.5107]], dtype=torch.float16)"
            ]
          },
          "metadata": {},
          "execution_count": 30
        }
      ]
    },
    {
      "cell_type": "markdown",
      "source": [
        "# Important tensor class attributes\n",
        "- `shape` - what shape is the tensor? (some operations require specific shape\n",
        "\n",
        "rules)\n",
        "- `dtype` - what datatype are the elements within the tensor stored in?\n",
        "- `device` - what device is the tensor stored on? (usually GPU or CPU)"
      ],
      "metadata": {
        "id": "PxMuQB7S0m1t"
      }
    },
    {
      "cell_type": "code",
      "source": [
        "r = torch.rand(size=(3,4))\n",
        "print ('Information about tensor')\n",
        "print (f'shape = {r.shape}')\n",
        "print (f'dtype = {r.dtype}')\n",
        "print (f'device = {r.device}')"
      ],
      "metadata": {
        "colab": {
          "base_uri": "https://localhost:8080/"
        },
        "id": "TiOI-pHo1Cht",
        "outputId": "226b8627-639c-445b-9ae0-cc4251e7de4e"
      },
      "execution_count": 31,
      "outputs": [
        {
          "output_type": "stream",
          "name": "stdout",
          "text": [
            "Information about tensor\n",
            "shape = torch.Size([3, 4])\n",
            "dtype = torch.float32\n",
            "device = cpu\n"
          ]
        }
      ]
    },
    {
      "cell_type": "markdown",
      "source": [
        "# Tensor multiplication"
      ],
      "metadata": {
        "id": "087KubGh2SC9"
      }
    },
    {
      "cell_type": "code",
      "source": [
        "t1 = torch.arange(0, 10, 1).reshape(2,5)\n",
        "t1"
      ],
      "metadata": {
        "colab": {
          "base_uri": "https://localhost:8080/"
        },
        "id": "ieMEQ26V2VOw",
        "outputId": "31e8d9a2-a09a-4ac6-d28a-c282c49edac3"
      },
      "execution_count": 32,
      "outputs": [
        {
          "output_type": "execute_result",
          "data": {
            "text/plain": [
              "tensor([[0, 1, 2, 3, 4],\n",
              "        [5, 6, 7, 8, 9]])"
            ]
          },
          "metadata": {},
          "execution_count": 32
        }
      ]
    },
    {
      "cell_type": "code",
      "source": [
        "t2 = torch.arange(10, 20, 1).reshape(2,5)\n",
        "t2"
      ],
      "metadata": {
        "colab": {
          "base_uri": "https://localhost:8080/"
        },
        "id": "DuhdqOGc2yCr",
        "outputId": "9d26fa10-0cf8-4db4-d525-5e1aae249224"
      },
      "execution_count": 33,
      "outputs": [
        {
          "output_type": "execute_result",
          "data": {
            "text/plain": [
              "tensor([[10, 11, 12, 13, 14],\n",
              "        [15, 16, 17, 18, 19]])"
            ]
          },
          "metadata": {},
          "execution_count": 33
        }
      ]
    },
    {
      "cell_type": "code",
      "source": [
        "# Normal elementwise multiplication\n",
        "t1*t1"
      ],
      "metadata": {
        "colab": {
          "base_uri": "https://localhost:8080/"
        },
        "id": "uMXI88Oq2avK",
        "outputId": "712cdea0-d7f9-4ba3-aa52-2cf16275221a"
      },
      "execution_count": 34,
      "outputs": [
        {
          "output_type": "execute_result",
          "data": {
            "text/plain": [
              "tensor([[ 0,  1,  4,  9, 16],\n",
              "        [25, 36, 49, 64, 81]])"
            ]
          },
          "metadata": {},
          "execution_count": 34
        }
      ]
    },
    {
      "cell_type": "code",
      "source": [
        "# Matrix multiplication\n",
        "t1 @ t2"
      ],
      "metadata": {
        "colab": {
          "base_uri": "https://localhost:8080/",
          "height": 183
        },
        "id": "LHRt7bjS3AB7",
        "outputId": "783ebc6c-d701-4645-d3aa-02cf09db5e41"
      },
      "execution_count": 36,
      "outputs": [
        {
          "output_type": "error",
          "ename": "RuntimeError",
          "evalue": "ignored",
          "traceback": [
            "\u001b[0;31m---------------------------------------------------------------------------\u001b[0m",
            "\u001b[0;31mRuntimeError\u001b[0m                              Traceback (most recent call last)",
            "\u001b[0;32m<ipython-input-36-63413b0fdf44>\u001b[0m in \u001b[0;36m<cell line: 2>\u001b[0;34m()\u001b[0m\n\u001b[1;32m      1\u001b[0m \u001b[0;31m# Matrix multiplication\u001b[0m\u001b[0;34m\u001b[0m\u001b[0;34m\u001b[0m\u001b[0m\n\u001b[0;32m----> 2\u001b[0;31m \u001b[0mt1\u001b[0m \u001b[0;34m@\u001b[0m \u001b[0mt2\u001b[0m\u001b[0;34m\u001b[0m\u001b[0;34m\u001b[0m\u001b[0m\n\u001b[0m",
            "\u001b[0;31mRuntimeError\u001b[0m: mat1 and mat2 shapes cannot be multiplied (2x5 and 2x5)"
          ]
        }
      ]
    },
    {
      "cell_type": "code",
      "source": [
        "t3 = t1.T @ t2"
      ],
      "metadata": {
        "id": "n979rkTS1jph"
      },
      "execution_count": 37,
      "outputs": []
    },
    {
      "cell_type": "code",
      "source": [
        "t3"
      ],
      "metadata": {
        "colab": {
          "base_uri": "https://localhost:8080/"
        },
        "id": "z05imGH091RY",
        "outputId": "c2621f2f-5b5c-473a-f6ec-f4edbf2e159f"
      },
      "execution_count": 38,
      "outputs": [
        {
          "output_type": "execute_result",
          "data": {
            "text/plain": [
              "tensor([[ 75,  80,  85,  90,  95],\n",
              "        [100, 107, 114, 121, 128],\n",
              "        [125, 134, 143, 152, 161],\n",
              "        [150, 161, 172, 183, 194],\n",
              "        [175, 188, 201, 214, 227]])"
            ]
          },
          "metadata": {},
          "execution_count": 38
        }
      ]
    },
    {
      "cell_type": "code",
      "source": [
        "# get all the items in the 3rd column\n",
        "t3[:, 2].numpy()"
      ],
      "metadata": {
        "colab": {
          "base_uri": "https://localhost:8080/"
        },
        "id": "7BsdpYtY4lu0",
        "outputId": "c70d83f6-0710-4633-c0ce-0dc26e4612a7"
      },
      "execution_count": 39,
      "outputs": [
        {
          "output_type": "execute_result",
          "data": {
            "text/plain": [
              "array([ 85, 114, 143, 172, 201])"
            ]
          },
          "metadata": {},
          "execution_count": 39
        }
      ]
    },
    {
      "cell_type": "code",
      "source": [
        "# check the time for a looped matrix multiplication\n",
        "%%timeit\n",
        "l = []\n",
        "a = t1.T\n",
        "b = t2\n",
        "r1, c1 = a.shape\n",
        "r2, c2 = b.shape\n",
        "for i in range(r1):\n",
        "    l.append([torch.dot(a[i], b[:, j]) for j in range(c2)])\n",
        "t4 = torch.tensor(l)"
      ],
      "metadata": {
        "colab": {
          "base_uri": "https://localhost:8080/"
        },
        "id": "szQTIOB56kKp",
        "outputId": "92a1d2d0-db15-4578-d364-982323b4ffd3"
      },
      "execution_count": 40,
      "outputs": [
        {
          "output_type": "stream",
          "name": "stdout",
          "text": [
            "389 µs ± 50.5 µs per loop (mean ± std. dev. of 7 runs, 1000 loops each)\n"
          ]
        }
      ]
    },
    {
      "cell_type": "markdown",
      "source": [
        "# Torch Linear Layer"
      ],
      "metadata": {
        "id": "O1Aoc4imjonu"
      }
    },
    {
      "cell_type": "code",
      "source": [
        "%%timeit\n",
        "torch.manual_seed(42)\n",
        "linear = nn.Linear(in_features=3, out_features=4)\n",
        "x = torch.rand(size=(1, 3))\n",
        "output = linear(x)"
      ],
      "metadata": {
        "colab": {
          "base_uri": "https://localhost:8080/"
        },
        "id": "-nHXsRj8jjHr",
        "outputId": "70805181-63bf-4bea-ef71-f0aa3eeee0b4"
      },
      "execution_count": 41,
      "outputs": [
        {
          "output_type": "stream",
          "name": "stdout",
          "text": [
            "132 µs ± 21.5 µs per loop (mean ± std. dev. of 7 runs, 10000 loops each)\n"
          ]
        }
      ]
    },
    {
      "cell_type": "markdown",
      "source": [
        "## Mean and Sum"
      ],
      "metadata": {
        "id": "AJ5rKPLAFprQ"
      }
    },
    {
      "cell_type": "code",
      "source": [
        "m = torch.arange(1, 10 , 1).type(torch.float32)"
      ],
      "metadata": {
        "id": "ipZGcNezFmr0"
      },
      "execution_count": 42,
      "outputs": []
    },
    {
      "cell_type": "code",
      "source": [
        "m, m.squeeze(), m.unsqueeze(0), m.unsqueeze(1)"
      ],
      "metadata": {
        "colab": {
          "base_uri": "https://localhost:8080/"
        },
        "id": "QHkKaFSTGUFW",
        "outputId": "e394c192-8ebf-4788-f4fd-43cc410aa601"
      },
      "execution_count": 43,
      "outputs": [
        {
          "output_type": "execute_result",
          "data": {
            "text/plain": [
              "(tensor([1., 2., 3., 4., 5., 6., 7., 8., 9.]),\n",
              " tensor([1., 2., 3., 4., 5., 6., 7., 8., 9.]),\n",
              " tensor([[1., 2., 3., 4., 5., 6., 7., 8., 9.]]),\n",
              " tensor([[1.],\n",
              "         [2.],\n",
              "         [3.],\n",
              "         [4.],\n",
              "         [5.],\n",
              "         [6.],\n",
              "         [7.],\n",
              "         [8.],\n",
              "         [9.]]))"
            ]
          },
          "metadata": {},
          "execution_count": 43
        }
      ]
    },
    {
      "cell_type": "code",
      "source": [
        "m.sum(), m.min(), m.max(), m.mean()"
      ],
      "metadata": {
        "colab": {
          "base_uri": "https://localhost:8080/"
        },
        "id": "nd3QUdLYGz10",
        "outputId": "8fe29aa6-7e08-442c-8377-e45b46d8d8c5"
      },
      "execution_count": 44,
      "outputs": [
        {
          "output_type": "execute_result",
          "data": {
            "text/plain": [
              "(tensor(45.), tensor(1.), tensor(9.), tensor(5.))"
            ]
          },
          "metadata": {},
          "execution_count": 44
        }
      ]
    },
    {
      "cell_type": "code",
      "source": [
        "print(f'argmin={m.argmin()}, argmax={m.argmax()}')"
      ],
      "metadata": {
        "colab": {
          "base_uri": "https://localhost:8080/"
        },
        "id": "vtPVhRbUHKmB",
        "outputId": "ebb71546-3dfc-41c3-fa73-274c31b03793"
      },
      "execution_count": 45,
      "outputs": [
        {
          "output_type": "stream",
          "name": "stdout",
          "text": [
            "argmin=0, argmax=8\n"
          ]
        }
      ]
    },
    {
      "cell_type": "code",
      "source": [
        "imax = m.argmax()\n",
        "imax.item()"
      ],
      "metadata": {
        "colab": {
          "base_uri": "https://localhost:8080/"
        },
        "id": "YittypxpHkf6",
        "outputId": "c7d33738-3234-4fdb-e6ea-ac033cebae07"
      },
      "execution_count": 46,
      "outputs": [
        {
          "output_type": "execute_result",
          "data": {
            "text/plain": [
              "8"
            ]
          },
          "metadata": {},
          "execution_count": 46
        }
      ]
    },
    {
      "cell_type": "code",
      "source": [
        "imax.is_cuda()"
      ],
      "metadata": {
        "colab": {
          "base_uri": "https://localhost:8080/",
          "height": 165
        },
        "id": "wxSzncjtO0M7",
        "outputId": "a2c9288c-c242-4051-cf4c-42ca660bd18c"
      },
      "execution_count": 47,
      "outputs": [
        {
          "output_type": "error",
          "ename": "TypeError",
          "evalue": "ignored",
          "traceback": [
            "\u001b[0;31m---------------------------------------------------------------------------\u001b[0m",
            "\u001b[0;31mTypeError\u001b[0m                                 Traceback (most recent call last)",
            "\u001b[0;32m<ipython-input-47-7929d5891376>\u001b[0m in \u001b[0;36m<cell line: 1>\u001b[0;34m()\u001b[0m\n\u001b[0;32m----> 1\u001b[0;31m \u001b[0mimax\u001b[0m\u001b[0;34m.\u001b[0m\u001b[0mis_cuda\u001b[0m\u001b[0;34m(\u001b[0m\u001b[0;34m)\u001b[0m\u001b[0;34m\u001b[0m\u001b[0;34m\u001b[0m\u001b[0m\n\u001b[0m",
            "\u001b[0;31mTypeError\u001b[0m: 'bool' object is not callable"
          ]
        }
      ]
    },
    {
      "cell_type": "code",
      "source": [],
      "metadata": {
        "id": "8eeOnIitnlyk"
      },
      "execution_count": null,
      "outputs": []
    },
    {
      "cell_type": "markdown",
      "source": [
        "## Reshaping"
      ],
      "metadata": {
        "id": "3VOoHU1knmb1"
      }
    },
    {
      "cell_type": "code",
      "source": [
        "# Create a tensor\n",
        "import torch\n",
        "x = torch.arange(0., 8.)\n",
        "x, x.shape"
      ],
      "metadata": {
        "colab": {
          "base_uri": "https://localhost:8080/"
        },
        "id": "g5aBX2dY2d5u",
        "outputId": "da2195c3-5887-4982-f138-7fde1281332d"
      },
      "execution_count": 48,
      "outputs": [
        {
          "output_type": "execute_result",
          "data": {
            "text/plain": [
              "(tensor([0., 1., 2., 3., 4., 5., 6., 7.]), torch.Size([8]))"
            ]
          },
          "metadata": {},
          "execution_count": 48
        }
      ]
    },
    {
      "cell_type": "code",
      "source": [
        "y = x.reshape(4,2)\n",
        "y"
      ],
      "metadata": {
        "colab": {
          "base_uri": "https://localhost:8080/"
        },
        "id": "nt0IhvIA2wnW",
        "outputId": "cf0e25c3-3073-4fea-e7f2-cd77821e6680"
      },
      "execution_count": 49,
      "outputs": [
        {
          "output_type": "execute_result",
          "data": {
            "text/plain": [
              "tensor([[0., 1.],\n",
              "        [2., 3.],\n",
              "        [4., 5.],\n",
              "        [6., 7.]])"
            ]
          },
          "metadata": {},
          "execution_count": 49
        }
      ]
    },
    {
      "cell_type": "code",
      "source": [
        "# Change view (keeps same data as original but changes view)\n",
        "# See more: https://stackoverflow.com/a/54507446/7900723\n",
        "z = x.view(1,8)\n",
        "z"
      ],
      "metadata": {
        "colab": {
          "base_uri": "https://localhost:8080/"
        },
        "id": "2SPprHv83HI0",
        "outputId": "4627169b-9e43-428b-d2cb-12b8a378dcdd"
      },
      "execution_count": 50,
      "outputs": [
        {
          "output_type": "execute_result",
          "data": {
            "text/plain": [
              "tensor([[0., 1., 2., 3., 4., 5., 6., 7.]])"
            ]
          },
          "metadata": {},
          "execution_count": 50
        }
      ]
    },
    {
      "cell_type": "code",
      "source": [
        "z[:,3] = 15\n",
        "x"
      ],
      "metadata": {
        "colab": {
          "base_uri": "https://localhost:8080/"
        },
        "id": "nOTXEfiL3PEh",
        "outputId": "57d263c0-d9c5-4082-ef93-3d8b45eed058"
      },
      "execution_count": 51,
      "outputs": [
        {
          "output_type": "execute_result",
          "data": {
            "text/plain": [
              "tensor([ 0.,  1.,  2., 15.,  4.,  5.,  6.,  7.])"
            ]
          },
          "metadata": {},
          "execution_count": 51
        }
      ]
    },
    {
      "cell_type": "code",
      "source": [
        "z"
      ],
      "metadata": {
        "colab": {
          "base_uri": "https://localhost:8080/"
        },
        "id": "EJ_PTru3MGHj",
        "outputId": "e954bb28-1cb2-4354-9ffc-4609546fa7bb"
      },
      "execution_count": 68,
      "outputs": [
        {
          "output_type": "execute_result",
          "data": {
            "text/plain": [
              "tensor([[ 0.,  1.,  2., 15.,  4.,  5.,  6.,  7.]])"
            ]
          },
          "metadata": {},
          "execution_count": 68
        }
      ]
    },
    {
      "cell_type": "markdown",
      "source": [
        "## torch.stack Concatenates sequence of tensors along a **new dimension**. There is a new dimension added\n"
      ],
      "metadata": {
        "id": "obN5OkheefSJ"
      }
    },
    {
      "cell_type": "code",
      "source": [
        "st = torch.stack([z, z, z], dim=0)\n",
        "st, z.shape, st.shape"
      ],
      "metadata": {
        "colab": {
          "base_uri": "https://localhost:8080/"
        },
        "id": "wWbsEh3n3aNA",
        "outputId": "a202a85d-8b4c-48da-a29f-33068133b5ef"
      },
      "execution_count": 66,
      "outputs": [
        {
          "output_type": "execute_result",
          "data": {
            "text/plain": [
              "(tensor([[[ 0.,  1.,  2., 15.,  4.,  5.,  6.,  7.]],\n",
              " \n",
              "         [[ 0.,  1.,  2., 15.,  4.,  5.,  6.,  7.]],\n",
              " \n",
              "         [[ 0.,  1.,  2., 15.,  4.,  5.,  6.,  7.]]]),\n",
              " torch.Size([1, 8]),\n",
              " torch.Size([3, 1, 8]))"
            ]
          },
          "metadata": {},
          "execution_count": 66
        }
      ]
    },
    {
      "cell_type": "code",
      "source": [
        "st = torch.stack([z, z, z], dim=1)\n",
        "st, z.shape, st.shape"
      ],
      "metadata": {
        "colab": {
          "base_uri": "https://localhost:8080/"
        },
        "id": "bqVAFtZabbOM",
        "outputId": "df16985f-d942-40ea-fcca-efb59517e0f3"
      },
      "execution_count": 69,
      "outputs": [
        {
          "output_type": "execute_result",
          "data": {
            "text/plain": [
              "(tensor([[[ 0.,  1.,  2., 15.,  4.,  5.,  6.,  7.],\n",
              "          [ 0.,  1.,  2., 15.,  4.,  5.,  6.,  7.],\n",
              "          [ 0.,  1.,  2., 15.,  4.,  5.,  6.,  7.]]]),\n",
              " torch.Size([1, 8]),\n",
              " torch.Size([1, 3, 8]))"
            ]
          },
          "metadata": {},
          "execution_count": 69
        }
      ]
    },
    {
      "cell_type": "code",
      "source": [
        "st = torch.stack([z, z, z], dim=2)\n",
        "st, z.shape, st.shape"
      ],
      "metadata": {
        "colab": {
          "base_uri": "https://localhost:8080/"
        },
        "id": "21tp4PTdSRCj",
        "outputId": "7425aa34-4bdc-4eef-ee8f-ae65f43cf9a1"
      },
      "execution_count": 70,
      "outputs": [
        {
          "output_type": "execute_result",
          "data": {
            "text/plain": [
              "(tensor([[[ 0.,  0.,  0.],\n",
              "          [ 1.,  1.,  1.],\n",
              "          [ 2.,  2.,  2.],\n",
              "          [15., 15., 15.],\n",
              "          [ 4.,  4.,  4.],\n",
              "          [ 5.,  5.,  5.],\n",
              "          [ 6.,  6.,  6.],\n",
              "          [ 7.,  7.,  7.]]]),\n",
              " torch.Size([1, 8]),\n",
              " torch.Size([1, 8, 3]))"
            ]
          },
          "metadata": {},
          "execution_count": 70
        }
      ]
    },
    {
      "cell_type": "code",
      "source": [
        "torch.concat([z, z, z], dim=1)"
      ],
      "metadata": {
        "colab": {
          "base_uri": "https://localhost:8080/"
        },
        "id": "FiGeqsOpSio2",
        "outputId": "e8ee5a6a-735b-4aeb-ae98-78fc39017ec3"
      },
      "execution_count": 61,
      "outputs": [
        {
          "output_type": "execute_result",
          "data": {
            "text/plain": [
              "tensor([[ 0.,  1.,  2., 15.,  4.,  5.,  6.,  7.,  0.,  1.,  2., 15.,  4.,  5.,\n",
              "          6.,  7.,  0.,  1.,  2., 15.,  4.,  5.,  6.,  7.]])"
            ]
          },
          "metadata": {},
          "execution_count": 61
        }
      ]
    },
    {
      "cell_type": "code",
      "source": [
        "uns_x = torch.arange(0,8).unsqueeze(dim=0)\n",
        "uns_x, uns_x.shape"
      ],
      "metadata": {
        "colab": {
          "base_uri": "https://localhost:8080/"
        },
        "id": "6kYiTXHbfuaT",
        "outputId": "0d1c3357-127c-4334-9d83-49002951ce34"
      },
      "execution_count": 13,
      "outputs": [
        {
          "output_type": "execute_result",
          "data": {
            "text/plain": [
              "(tensor([[0, 1, 2, 3, 4, 5, 6, 7]]), torch.Size([1, 8]))"
            ]
          },
          "metadata": {},
          "execution_count": 13
        }
      ]
    },
    {
      "cell_type": "code",
      "source": [
        "sq_x = uns_x.squeeze()\n",
        "sq_x, sq_x.shape"
      ],
      "metadata": {
        "colab": {
          "base_uri": "https://localhost:8080/"
        },
        "id": "1HKBkZSMgAwq",
        "outputId": "0f7ce586-7a6c-4af4-dc6f-dc6989d98a3b"
      },
      "execution_count": 14,
      "outputs": [
        {
          "output_type": "execute_result",
          "data": {
            "text/plain": [
              "(tensor([0, 1, 2, 3, 4, 5, 6, 7]), torch.Size([8]))"
            ]
          },
          "metadata": {},
          "execution_count": 14
        }
      ]
    },
    {
      "cell_type": "markdown",
      "source": [
        "## A new dimension can also be added using the **None Trick**"
      ],
      "metadata": {
        "id": "RQ0oYBDJI0Q4"
      }
    },
    {
      "cell_type": "code",
      "source": [
        "sq_x.shape, sq_x[:, None].shape"
      ],
      "metadata": {
        "colab": {
          "base_uri": "https://localhost:8080/"
        },
        "id": "slzxX_ZfIzK9",
        "outputId": "1bd35d0b-5ec2-4b32-a7f1-bcc5d5893bfc"
      },
      "execution_count": 17,
      "outputs": [
        {
          "output_type": "execute_result",
          "data": {
            "text/plain": [
              "(torch.Size([8]), torch.Size([8, 1]))"
            ]
          },
          "metadata": {},
          "execution_count": 17
        }
      ]
    },
    {
      "cell_type": "code",
      "source": [
        "r = list(uns_x.shape)\n",
        "r"
      ],
      "metadata": {
        "colab": {
          "base_uri": "https://localhost:8080/"
        },
        "id": "-uK5PLBSgd15",
        "outputId": "b753764f-3dc8-4222-a592-45970731c86f"
      },
      "execution_count": 95,
      "outputs": [
        {
          "output_type": "execute_result",
          "data": {
            "text/plain": [
              "[1, 8]"
            ]
          },
          "metadata": {},
          "execution_count": 95
        }
      ]
    },
    {
      "cell_type": "code",
      "source": [
        "%%latex\n",
        "f(x_1, x_2) = \\frac{1+\\sin(x_2)}{x_2+e^{x_1}} + x_1x_2"
      ],
      "metadata": {
        "colab": {
          "base_uri": "https://localhost:8080/",
          "height": 42
        },
        "id": "gGDxH1woRncO",
        "outputId": "84621d7f-a7f3-42b1-c69a-d6ce8e19df15"
      },
      "execution_count": 26,
      "outputs": [
        {
          "output_type": "display_data",
          "data": {
            "text/plain": [
              "<IPython.core.display.Latex object>"
            ],
            "text/latex": "f(x_1, x_2) = \\frac{1+\\sin(x_2)}{x_2+e^{x_1}} + x_1x_2\n"
          },
          "metadata": {}
        }
      ]
    },
    {
      "cell_type": "code",
      "source": [
        "x1, x2 = torch.tensor(1.5, requires_grad=True), torch.tensor(0.5, requires_grad=True)\n",
        "f = ((1 + torch.sin(x2))/(x2+torch.exp(x1))) + x1*x2\n",
        "f.backward()\n",
        "x1.grad, x2.grad"
      ],
      "metadata": {
        "colab": {
          "base_uri": "https://localhost:8080/"
        },
        "id": "DygVQxfWSUcl",
        "outputId": "1d39c58a-4657-45cb-9db7-e3e32f238f77"
      },
      "execution_count": 32,
      "outputs": [
        {
          "output_type": "execute_result",
          "data": {
            "text/plain": [
              "(tensor(0.2328), tensor(1.6165))"
            ]
          },
          "metadata": {},
          "execution_count": 32
        }
      ]
    },
    {
      "cell_type": "markdown",
      "source": [
        "## A Native implementation of a Tensor and Computation graph\n",
        "#### Source:-> https://programming-review.com/pytorch/ad"
      ],
      "metadata": {
        "id": "PUe5lItPpKOh"
      }
    },
    {
      "cell_type": "code",
      "source": [
        "import math\n",
        "class ADNumber:\n",
        "\n",
        "    def __init__(self,val, name=\"\"):\n",
        "        self.name=name\n",
        "        self._val=val\n",
        "        self._children=[]\n",
        "\n",
        "    def __truediv__(self,other):\n",
        "        new = ADNumber(self._val / other._val, name=f\"{self.name}/{other.name}\")\n",
        "        self._children.append((1.0/other._val,new))\n",
        "        other._children.append((-self._val/other._val**2,new)) # first derivation of 1/x is -1/x^2\n",
        "        return new\n",
        "\n",
        "    def __mul__(self,other):\n",
        "        new = ADNumber(self._val*other._val, name=f\"{self.name}*{other.name}\")\n",
        "        self._children.append((other._val,new))\n",
        "        other._children.append((self._val,new))\n",
        "        return new\n",
        "\n",
        "    def __add__(self,other):\n",
        "        if isinstance(other, (int, float)):\n",
        "            other = ADNumber(other, str(other))\n",
        "        new = ADNumber(self._val+other._val, name=f\"{self.name}+{other.name}\")\n",
        "        self._children.append((1.0,new))\n",
        "        other._children.append((1.0,new))\n",
        "        return new\n",
        "\n",
        "    def __sub__(self,other):\n",
        "        new = ADNumber(self._val-other._val, name=f\"{self.name}-{other.name}\")\n",
        "        self._children.append((1.0,new))\n",
        "        other._children.append((-1.0,new))\n",
        "        return new\n",
        "\n",
        "\n",
        "    @staticmethod\n",
        "    def exp(self):\n",
        "        new = ADNumber(math.exp(self._val), name=f\"exp({self.name})\")\n",
        "        self._children.append((math.exp(self._val),new))\n",
        "        return new\n",
        "\n",
        "    @staticmethod\n",
        "    def sin(self):\n",
        "        new = ADNumber(math.sin(self._val), name=f\"sin({self.name})\")\n",
        "        self._children.append((math.cos(self._val),new)) # first derivation is cos\n",
        "        return new\n",
        "\n",
        "    def grad(self,other):\n",
        "        if self==other:\n",
        "            print (f'{self.name}=={other.name}')\n",
        "            return 1.0\n",
        "        else:\n",
        "            result=0.0\n",
        "            for child in other._children:\n",
        "                result+=child[0]*self.grad(child[1])\n",
        "            return result\n",
        "\n",
        "A = ADNumber # shortcuts\n",
        "sin = A.sin\n",
        "exp = A.exp\n",
        "\n",
        "def print_child(f, wrt): # with respect to\n",
        "    for e in f._children:\n",
        "        print(\"child:\", wrt, \"->\" , e[1].name, \"grad: \", e[0])\n",
        "        print_child(e[1], e[1].name)\n",
        "\n",
        "\n",
        "x1 = A(1.5, name=\"x1\")\n",
        "x2 = A(0.5, name=\"x2\")\n",
        "f=(sin(x2)+1)/(x2+exp(x1))+x1*x2\n",
        "print_child(x1,\"x1\")\n",
        "print(\"\\ncalculated gradient for the function f with respect to x1:\", f.grad(x1))"
      ],
      "metadata": {
        "colab": {
          "base_uri": "https://localhost:8080/"
        },
        "id": "mKZJOPLxV_5y",
        "outputId": "769c7eb0-d554-45f7-dd02-1ccd3340cf2d"
      },
      "execution_count": 43,
      "outputs": [
        {
          "output_type": "stream",
          "name": "stdout",
          "text": [
            "child: x1 -> exp(x1) grad:  4.4816890703380645\n",
            "child: exp(x1) -> x2+exp(x1) grad:  1.0\n",
            "child: x2+exp(x1) -> sin(x2)+1/x2+exp(x1) grad:  -0.05961284871202578\n",
            "child: sin(x2)+1/x2+exp(x1) -> sin(x2)+1/x2+exp(x1)+x1*x2 grad:  1.0\n",
            "child: x1 -> x1*x2 grad:  0.5\n",
            "child: x1*x2 -> sin(x2)+1/x2+exp(x1)+x1*x2 grad:  1.0\n",
            "sin(x2)+1/x2+exp(x1)+x1*x2==sin(x2)+1/x2+exp(x1)+x1*x2\n",
            "sin(x2)+1/x2+exp(x1)+x1*x2==sin(x2)+1/x2+exp(x1)+x1*x2\n",
            "\n",
            "calculated gradient for the function f with respect to x1: 0.23283374747559749\n"
          ]
        }
      ]
    },
    {
      "cell_type": "markdown",
      "source": [
        "## The default datatype for **numpy floating point** array is **float64**\n",
        "## The default datatype for **pytorch floating point** tensor is **float32**"
      ],
      "metadata": {
        "id": "SkRXVxuXkB7m"
      }
    },
    {
      "cell_type": "code",
      "source": [
        "import numpy as np\n",
        "import torch\n",
        "print (f'CUDA:-> {torch.cuda.is_available()}')\n",
        "print (f'TOTAL GPUS:-> {torch.cuda.device_count()}')\n",
        "np_a = np.arange(1, 10)\n",
        "print(np_a.dtype)\n",
        "py_t = torch.from_numpy(np_a)\n",
        "py_t, py_t.dtype"
      ],
      "metadata": {
        "colab": {
          "base_uri": "https://localhost:8080/"
        },
        "id": "ljoQ1cgBjofp",
        "outputId": "e09477f6-5206-42b6-c461-6b7800117150"
      },
      "execution_count": 1,
      "outputs": [
        {
          "output_type": "stream",
          "name": "stdout",
          "text": [
            "CUDA:-> False\n",
            "TOTAL GPUS:-> 0\n",
            "int64\n"
          ]
        },
        {
          "output_type": "execute_result",
          "data": {
            "text/plain": [
              "(tensor([1, 2, 3, 4, 5, 6, 7, 8, 9]), torch.int64)"
            ]
          },
          "metadata": {},
          "execution_count": 1
        }
      ]
    },
    {
      "cell_type": "code",
      "source": [
        "# Create tensors\n",
        "x1 = torch.tensor(1.5, requires_grad=True)\n",
        "x2 = torch.tensor(0.5, requires_grad=True)\n",
        "c = torch.tensor(1., requires_grad=True)\n",
        "\n",
        "# Build a computational graph\n",
        "y=(torch.sin(x2)+1)/(x2+torch.exp(x1))+x1*x2\n",
        "#y.backward() # compute gradients\n",
        "\n",
        "#print(x1.grad)\n",
        "#print(x2.grad)"
      ],
      "metadata": {
        "id": "7EiVQB_Rqq-N"
      },
      "execution_count": 6,
      "outputs": []
    },
    {
      "cell_type": "code",
      "source": [
        "x1.item()"
      ],
      "metadata": {
        "colab": {
          "base_uri": "https://localhost:8080/"
        },
        "id": "TBHHJ0yg1d3p",
        "outputId": "baad0ac4-2e50-4cf6-d3c6-98c896b69b62"
      },
      "execution_count": 10,
      "outputs": [
        {
          "output_type": "execute_result",
          "data": {
            "text/plain": [
              "1.5"
            ]
          },
          "metadata": {},
          "execution_count": 10
        }
      ]
    },
    {
      "cell_type": "code",
      "source": [
        "#!pip install torchviz\n",
        "from torchviz import make_dot\n",
        "make_dot(y)"
      ],
      "metadata": {
        "colab": {
          "base_uri": "https://localhost:8080/",
          "height": 529
        },
        "id": "AZtURNHU0giH",
        "outputId": "4802551e-3c5a-4487-eee7-ad8559e5894e"
      },
      "execution_count": 8,
      "outputs": [
        {
          "output_type": "execute_result",
          "data": {
            "image/svg+xml": "<?xml version=\"1.0\" encoding=\"UTF-8\" standalone=\"no\"?>\n<!DOCTYPE svg PUBLIC \"-//W3C//DTD SVG 1.1//EN\"\n \"http://www.w3.org/Graphics/SVG/1.1/DTD/svg11.dtd\">\n<!-- Generated by graphviz version 2.43.0 (0)\n -->\n<!-- Title: %3 Pages: 1 -->\n<svg width=\"375pt\" height=\"381pt\"\n viewBox=\"0.00 0.00 375.00 381.00\" xmlns=\"http://www.w3.org/2000/svg\" xmlns:xlink=\"http://www.w3.org/1999/xlink\">\n<g id=\"graph0\" class=\"graph\" transform=\"scale(1 1) rotate(0) translate(4 377)\">\n<title>%3</title>\n<polygon fill=\"white\" stroke=\"transparent\" points=\"-4,4 -4,-377 371,-377 371,4 -4,4\"/>\n<!-- 133530993778560 -->\n<g id=\"node1\" class=\"node\">\n<title>133530993778560</title>\n<polygon fill=\"#caff70\" stroke=\"black\" points=\"214.5,-31 160.5,-31 160.5,0 214.5,0 214.5,-31\"/>\n<text text-anchor=\"middle\" x=\"187.5\" y=\"-7\" font-family=\"monospace\" font-size=\"10.00\"> ()</text>\n</g>\n<!-- 133530994998528 -->\n<g id=\"node2\" class=\"node\">\n<title>133530994998528</title>\n<polygon fill=\"lightgrey\" stroke=\"black\" points=\"232,-86 143,-86 143,-67 232,-67 232,-86\"/>\n<text text-anchor=\"middle\" x=\"187.5\" y=\"-74\" font-family=\"monospace\" font-size=\"10.00\">AddBackward0</text>\n</g>\n<!-- 133530994998528&#45;&gt;133530993778560 -->\n<g id=\"edge14\" class=\"edge\">\n<title>133530994998528&#45;&gt;133530993778560</title>\n<path fill=\"none\" stroke=\"black\" d=\"M187.5,-66.79C187.5,-60.07 187.5,-50.4 187.5,-41.34\"/>\n<polygon fill=\"black\" stroke=\"black\" points=\"191,-41.19 187.5,-31.19 184,-41.19 191,-41.19\"/>\n</g>\n<!-- 133530994984320 -->\n<g id=\"node3\" class=\"node\">\n<title>133530994984320</title>\n<polygon fill=\"lightgrey\" stroke=\"black\" points=\"196,-141 107,-141 107,-122 196,-122 196,-141\"/>\n<text text-anchor=\"middle\" x=\"151.5\" y=\"-129\" font-family=\"monospace\" font-size=\"10.00\">DivBackward0</text>\n</g>\n<!-- 133530994984320&#45;&gt;133530994998528 -->\n<g id=\"edge1\" class=\"edge\">\n<title>133530994984320&#45;&gt;133530994998528</title>\n<path fill=\"none\" stroke=\"black\" d=\"M157.44,-121.75C162.48,-114.34 169.84,-103.5 176.01,-94.41\"/>\n<polygon fill=\"black\" stroke=\"black\" points=\"178.94,-96.33 181.67,-86.09 173.15,-92.39 178.94,-96.33\"/>\n</g>\n<!-- 133530994983984 -->\n<g id=\"node4\" class=\"node\">\n<title>133530994983984</title>\n<polygon fill=\"lightgrey\" stroke=\"black\" points=\"89,-196 0,-196 0,-177 89,-177 89,-196\"/>\n<text text-anchor=\"middle\" x=\"44.5\" y=\"-184\" font-family=\"monospace\" font-size=\"10.00\">AddBackward0</text>\n</g>\n<!-- 133530994983984&#45;&gt;133530994984320 -->\n<g id=\"edge2\" class=\"edge\">\n<title>133530994983984&#45;&gt;133530994984320</title>\n<path fill=\"none\" stroke=\"black\" d=\"M61.69,-176.98C78.75,-168.54 105.13,-155.47 124.9,-145.68\"/>\n<polygon fill=\"black\" stroke=\"black\" points=\"126.59,-148.75 134,-141.17 123.48,-142.47 126.59,-148.75\"/>\n</g>\n<!-- 133530994984368 -->\n<g id=\"node5\" class=\"node\">\n<title>133530994984368</title>\n<polygon fill=\"lightgrey\" stroke=\"black\" points=\"106,-251 17,-251 17,-232 106,-232 106,-251\"/>\n<text text-anchor=\"middle\" x=\"61.5\" y=\"-239\" font-family=\"monospace\" font-size=\"10.00\">SinBackward0</text>\n</g>\n<!-- 133530994984368&#45;&gt;133530994983984 -->\n<g id=\"edge3\" class=\"edge\">\n<title>133530994984368&#45;&gt;133530994983984</title>\n<path fill=\"none\" stroke=\"black\" d=\"M58.69,-231.75C56.44,-224.72 53.2,-214.62 50.38,-205.84\"/>\n<polygon fill=\"black\" stroke=\"black\" points=\"53.64,-204.54 47.25,-196.09 46.98,-206.68 53.64,-204.54\"/>\n</g>\n<!-- 133530994984128 -->\n<g id=\"node6\" class=\"node\">\n<title>133530994984128</title>\n<polygon fill=\"lightgrey\" stroke=\"black\" points=\"193,-306 92,-306 92,-287 193,-287 193,-306\"/>\n<text text-anchor=\"middle\" x=\"142.5\" y=\"-294\" font-family=\"monospace\" font-size=\"10.00\">AccumulateGrad</text>\n</g>\n<!-- 133530994984128&#45;&gt;133530994984368 -->\n<g id=\"edge4\" class=\"edge\">\n<title>133530994984128&#45;&gt;133530994984368</title>\n<path fill=\"none\" stroke=\"black\" d=\"M129.49,-286.98C117.04,-278.84 98.04,-266.41 83.29,-256.76\"/>\n<polygon fill=\"black\" stroke=\"black\" points=\"85.04,-253.72 74.75,-251.17 81.2,-259.57 85.04,-253.72\"/>\n</g>\n<!-- 133530994991952 -->\n<g id=\"node8\" class=\"node\">\n<title>133530994991952</title>\n<polygon fill=\"lightgrey\" stroke=\"black\" points=\"196,-196 107,-196 107,-177 196,-177 196,-196\"/>\n<text text-anchor=\"middle\" x=\"151.5\" y=\"-184\" font-family=\"monospace\" font-size=\"10.00\">AddBackward0</text>\n</g>\n<!-- 133530994984128&#45;&gt;133530994991952 -->\n<g id=\"edge7\" class=\"edge\">\n<title>133530994984128&#45;&gt;133530994991952</title>\n<path fill=\"none\" stroke=\"black\" d=\"M143.24,-286.66C144.69,-269.17 147.97,-229.8 149.94,-206.27\"/>\n<polygon fill=\"black\" stroke=\"black\" points=\"153.44,-206.41 150.78,-196.16 146.46,-205.83 153.44,-206.41\"/>\n</g>\n<!-- 133530994984224 -->\n<g id=\"node12\" class=\"node\">\n<title>133530994984224</title>\n<polygon fill=\"lightgrey\" stroke=\"black\" points=\"260,-251 171,-251 171,-232 260,-232 260,-251\"/>\n<text text-anchor=\"middle\" x=\"215.5\" y=\"-239\" font-family=\"monospace\" font-size=\"10.00\">MulBackward0</text>\n</g>\n<!-- 133530994984128&#45;&gt;133530994984224 -->\n<g id=\"edge13\" class=\"edge\">\n<title>133530994984128&#45;&gt;133530994984224</title>\n<path fill=\"none\" stroke=\"black\" d=\"M154.23,-286.98C165.23,-279 181.92,-266.88 195.1,-257.31\"/>\n<polygon fill=\"black\" stroke=\"black\" points=\"197.52,-259.88 203.56,-251.17 193.41,-254.21 197.52,-259.88\"/>\n</g>\n<!-- 133530993777920 -->\n<g id=\"node7\" class=\"node\">\n<title>133530993777920</title>\n<polygon fill=\"lightblue\" stroke=\"black\" points=\"169.5,-373 115.5,-373 115.5,-342 169.5,-342 169.5,-373\"/>\n<text text-anchor=\"middle\" x=\"142.5\" y=\"-349\" font-family=\"monospace\" font-size=\"10.00\"> ()</text>\n</g>\n<!-- 133530993777920&#45;&gt;133530994984128 -->\n<g id=\"edge5\" class=\"edge\">\n<title>133530993777920&#45;&gt;133530994984128</title>\n<path fill=\"none\" stroke=\"black\" d=\"M142.5,-341.92C142.5,-334.22 142.5,-324.69 142.5,-316.43\"/>\n<polygon fill=\"black\" stroke=\"black\" points=\"146,-316.25 142.5,-306.25 139,-316.25 146,-316.25\"/>\n</g>\n<!-- 133530994991952&#45;&gt;133530994984320 -->\n<g id=\"edge6\" class=\"edge\">\n<title>133530994991952&#45;&gt;133530994984320</title>\n<path fill=\"none\" stroke=\"black\" d=\"M151.5,-176.75C151.5,-169.8 151.5,-159.85 151.5,-151.13\"/>\n<polygon fill=\"black\" stroke=\"black\" points=\"155,-151.09 151.5,-141.09 148,-151.09 155,-151.09\"/>\n</g>\n<!-- 133530994991280 -->\n<g id=\"node9\" class=\"node\">\n<title>133530994991280</title>\n<polygon fill=\"lightgrey\" stroke=\"black\" points=\"367,-251 278,-251 278,-232 367,-232 367,-251\"/>\n<text text-anchor=\"middle\" x=\"322.5\" y=\"-239\" font-family=\"monospace\" font-size=\"10.00\">ExpBackward0</text>\n</g>\n<!-- 133530994991280&#45;&gt;133530994991952 -->\n<g id=\"edge8\" class=\"edge\">\n<title>133530994991280&#45;&gt;133530994991952</title>\n<path fill=\"none\" stroke=\"black\" d=\"M295.03,-231.98C266.32,-223.09 221.08,-209.07 189.08,-199.15\"/>\n<polygon fill=\"black\" stroke=\"black\" points=\"189.78,-195.7 179.19,-196.08 187.7,-202.39 189.78,-195.7\"/>\n</g>\n<!-- 133530994990992 -->\n<g id=\"node10\" class=\"node\">\n<title>133530994990992</title>\n<polygon fill=\"lightgrey\" stroke=\"black\" points=\"342,-306 241,-306 241,-287 342,-287 342,-306\"/>\n<text text-anchor=\"middle\" x=\"291.5\" y=\"-294\" font-family=\"monospace\" font-size=\"10.00\">AccumulateGrad</text>\n</g>\n<!-- 133530994990992&#45;&gt;133530994991280 -->\n<g id=\"edge9\" class=\"edge\">\n<title>133530994990992&#45;&gt;133530994991280</title>\n<path fill=\"none\" stroke=\"black\" d=\"M296.62,-286.75C300.86,-279.49 307.03,-268.95 312.28,-259.98\"/>\n<polygon fill=\"black\" stroke=\"black\" points=\"315.45,-261.49 317.48,-251.09 309.41,-257.95 315.45,-261.49\"/>\n</g>\n<!-- 133530994990992&#45;&gt;133530994984224 -->\n<g id=\"edge12\" class=\"edge\">\n<title>133530994990992&#45;&gt;133530994984224</title>\n<path fill=\"none\" stroke=\"black\" d=\"M279.29,-286.98C267.72,-278.92 250.12,-266.65 236.34,-257.03\"/>\n<polygon fill=\"black\" stroke=\"black\" points=\"238.14,-254.02 227.93,-251.17 234.13,-259.76 238.14,-254.02\"/>\n</g>\n<!-- 133530993777680 -->\n<g id=\"node11\" class=\"node\">\n<title>133530993777680</title>\n<polygon fill=\"lightblue\" stroke=\"black\" points=\"318.5,-373 264.5,-373 264.5,-342 318.5,-342 318.5,-373\"/>\n<text text-anchor=\"middle\" x=\"291.5\" y=\"-349\" font-family=\"monospace\" font-size=\"10.00\"> ()</text>\n</g>\n<!-- 133530993777680&#45;&gt;133530994990992 -->\n<g id=\"edge10\" class=\"edge\">\n<title>133530993777680&#45;&gt;133530994990992</title>\n<path fill=\"none\" stroke=\"black\" d=\"M291.5,-341.92C291.5,-334.22 291.5,-324.69 291.5,-316.43\"/>\n<polygon fill=\"black\" stroke=\"black\" points=\"295,-316.25 291.5,-306.25 288,-316.25 295,-316.25\"/>\n</g>\n<!-- 133530994984224&#45;&gt;133530994998528 -->\n<g id=\"edge11\" class=\"edge\">\n<title>133530994984224&#45;&gt;133530994998528</title>\n<path fill=\"none\" stroke=\"black\" d=\"M215.5,-231.75C215.31,-211.93 213.87,-162.25 204.5,-122 202.41,-113.04 198.93,-103.46 195.66,-95.5\"/>\n<polygon fill=\"black\" stroke=\"black\" points=\"198.79,-93.93 191.61,-86.14 192.37,-96.71 198.79,-93.93\"/>\n</g>\n</g>\n</svg>\n",
            "text/plain": [
              "<graphviz.graphs.Digraph at 0x79721b85c7f0>"
            ]
          },
          "metadata": {},
          "execution_count": 8
        }
      ]
    },
    {
      "cell_type": "code",
      "source": [
        "from torchviz import make_dot\n",
        "x=torch.ones(2, requires_grad=True)\n",
        "y=2*x\n",
        "z=3+x\n",
        "r=(y+z).sum()\n",
        "r.backward()\n",
        "make_dot(r)"
      ],
      "metadata": {
        "colab": {
          "base_uri": "https://localhost:8080/",
          "height": 456
        },
        "id": "A8ueRApo2SG6",
        "outputId": "1f1d741c-9da8-4b77-f6eb-6999fa1a953d"
      },
      "execution_count": 15,
      "outputs": [
        {
          "output_type": "execute_result",
          "data": {
            "image/svg+xml": "<?xml version=\"1.0\" encoding=\"UTF-8\" standalone=\"no\"?>\n<!DOCTYPE svg PUBLIC \"-//W3C//DTD SVG 1.1//EN\"\n \"http://www.w3.org/Graphics/SVG/1.1/DTD/svg11.dtd\">\n<!-- Generated by graphviz version 2.43.0 (0)\n -->\n<!-- Title: %3 Pages: 1 -->\n<svg width=\"204pt\" height=\"326pt\"\n viewBox=\"0.00 0.00 204.00 326.00\" xmlns=\"http://www.w3.org/2000/svg\" xmlns:xlink=\"http://www.w3.org/1999/xlink\">\n<g id=\"graph0\" class=\"graph\" transform=\"scale(1 1) rotate(0) translate(4 322)\">\n<title>%3</title>\n<polygon fill=\"white\" stroke=\"transparent\" points=\"-4,4 -4,-322 200,-322 200,4 -4,4\"/>\n<!-- 133530994376224 -->\n<g id=\"node1\" class=\"node\">\n<title>133530994376224</title>\n<polygon fill=\"#caff70\" stroke=\"black\" points=\"124.5,-31 70.5,-31 70.5,0 124.5,0 124.5,-31\"/>\n<text text-anchor=\"middle\" x=\"97.5\" y=\"-7\" font-family=\"monospace\" font-size=\"10.00\"> ()</text>\n</g>\n<!-- 133530994998960 -->\n<g id=\"node2\" class=\"node\">\n<title>133530994998960</title>\n<polygon fill=\"lightgrey\" stroke=\"black\" points=\"142,-86 53,-86 53,-67 142,-67 142,-86\"/>\n<text text-anchor=\"middle\" x=\"97.5\" y=\"-74\" font-family=\"monospace\" font-size=\"10.00\">SumBackward0</text>\n</g>\n<!-- 133530994998960&#45;&gt;133530994376224 -->\n<g id=\"edge7\" class=\"edge\">\n<title>133530994998960&#45;&gt;133530994376224</title>\n<path fill=\"none\" stroke=\"black\" d=\"M97.5,-66.79C97.5,-60.07 97.5,-50.4 97.5,-41.34\"/>\n<polygon fill=\"black\" stroke=\"black\" points=\"101,-41.19 97.5,-31.19 94,-41.19 101,-41.19\"/>\n</g>\n<!-- 133530994984464 -->\n<g id=\"node3\" class=\"node\">\n<title>133530994984464</title>\n<polygon fill=\"lightgrey\" stroke=\"black\" points=\"142,-141 53,-141 53,-122 142,-122 142,-141\"/>\n<text text-anchor=\"middle\" x=\"97.5\" y=\"-129\" font-family=\"monospace\" font-size=\"10.00\">AddBackward0</text>\n</g>\n<!-- 133530994984464&#45;&gt;133530994998960 -->\n<g id=\"edge1\" class=\"edge\">\n<title>133530994984464&#45;&gt;133530994998960</title>\n<path fill=\"none\" stroke=\"black\" d=\"M97.5,-121.75C97.5,-114.8 97.5,-104.85 97.5,-96.13\"/>\n<polygon fill=\"black\" stroke=\"black\" points=\"101,-96.09 97.5,-86.09 94,-96.09 101,-96.09\"/>\n</g>\n<!-- 133530994997328 -->\n<g id=\"node4\" class=\"node\">\n<title>133530994997328</title>\n<polygon fill=\"lightgrey\" stroke=\"black\" points=\"89,-196 0,-196 0,-177 89,-177 89,-196\"/>\n<text text-anchor=\"middle\" x=\"44.5\" y=\"-184\" font-family=\"monospace\" font-size=\"10.00\">MulBackward0</text>\n</g>\n<!-- 133530994997328&#45;&gt;133530994984464 -->\n<g id=\"edge2\" class=\"edge\">\n<title>133530994997328&#45;&gt;133530994984464</title>\n<path fill=\"none\" stroke=\"black\" d=\"M53.25,-176.75C60.97,-169.03 72.4,-157.6 81.72,-148.28\"/>\n<polygon fill=\"black\" stroke=\"black\" points=\"84.31,-150.64 88.91,-141.09 79.36,-145.69 84.31,-150.64\"/>\n</g>\n<!-- 133530994987488 -->\n<g id=\"node5\" class=\"node\">\n<title>133530994987488</title>\n<polygon fill=\"lightgrey\" stroke=\"black\" points=\"148,-251 47,-251 47,-232 148,-232 148,-251\"/>\n<text text-anchor=\"middle\" x=\"97.5\" y=\"-239\" font-family=\"monospace\" font-size=\"10.00\">AccumulateGrad</text>\n</g>\n<!-- 133530994987488&#45;&gt;133530994997328 -->\n<g id=\"edge3\" class=\"edge\">\n<title>133530994987488&#45;&gt;133530994997328</title>\n<path fill=\"none\" stroke=\"black\" d=\"M88.75,-231.75C81.03,-224.03 69.6,-212.6 60.28,-203.28\"/>\n<polygon fill=\"black\" stroke=\"black\" points=\"62.64,-200.69 53.09,-196.09 57.69,-205.64 62.64,-200.69\"/>\n</g>\n<!-- 133530994986000 -->\n<g id=\"node7\" class=\"node\">\n<title>133530994986000</title>\n<polygon fill=\"lightgrey\" stroke=\"black\" points=\"196,-196 107,-196 107,-177 196,-177 196,-196\"/>\n<text text-anchor=\"middle\" x=\"151.5\" y=\"-184\" font-family=\"monospace\" font-size=\"10.00\">AddBackward0</text>\n</g>\n<!-- 133530994987488&#45;&gt;133530994986000 -->\n<g id=\"edge6\" class=\"edge\">\n<title>133530994987488&#45;&gt;133530994986000</title>\n<path fill=\"none\" stroke=\"black\" d=\"M106.42,-231.75C114.28,-224.03 125.93,-212.6 135.42,-203.28\"/>\n<polygon fill=\"black\" stroke=\"black\" points=\"138.06,-205.59 142.75,-196.09 133.16,-200.6 138.06,-205.59\"/>\n</g>\n<!-- 133530994370464 -->\n<g id=\"node6\" class=\"node\">\n<title>133530994370464</title>\n<polygon fill=\"lightblue\" stroke=\"black\" points=\"124.5,-318 70.5,-318 70.5,-287 124.5,-287 124.5,-318\"/>\n<text text-anchor=\"middle\" x=\"97.5\" y=\"-294\" font-family=\"monospace\" font-size=\"10.00\"> (2)</text>\n</g>\n<!-- 133530994370464&#45;&gt;133530994987488 -->\n<g id=\"edge4\" class=\"edge\">\n<title>133530994370464&#45;&gt;133530994987488</title>\n<path fill=\"none\" stroke=\"black\" d=\"M97.5,-286.92C97.5,-279.22 97.5,-269.69 97.5,-261.43\"/>\n<polygon fill=\"black\" stroke=\"black\" points=\"101,-261.25 97.5,-251.25 94,-261.25 101,-261.25\"/>\n</g>\n<!-- 133530994986000&#45;&gt;133530994984464 -->\n<g id=\"edge5\" class=\"edge\">\n<title>133530994986000&#45;&gt;133530994984464</title>\n<path fill=\"none\" stroke=\"black\" d=\"M142.58,-176.75C134.72,-169.03 123.07,-157.6 113.58,-148.28\"/>\n<polygon fill=\"black\" stroke=\"black\" points=\"115.84,-145.6 106.25,-141.09 110.94,-150.59 115.84,-145.6\"/>\n</g>\n</g>\n</svg>\n",
            "text/plain": [
              "<graphviz.graphs.Digraph at 0x79721b85dae0>"
            ]
          },
          "metadata": {},
          "execution_count": 15
        }
      ]
    },
    {
      "cell_type": "code",
      "source": [
        "import torch.nn.functional as F\n",
        "a = torch.tensor(2.0, requires_grad=True)\n",
        "b = torch.tensor(3.0, requires_grad=True)\n",
        "c = a + b\n",
        "d = torch.tensor(4.0, requires_grad=True)\n",
        "e = c * d\n",
        "f = F.sigmoid(e)\n",
        "f.backward()\n",
        "make_dot(f)"
      ],
      "metadata": {
        "colab": {
          "base_uri": "https://localhost:8080/",
          "height": 472
        },
        "id": "ISYCNzgY368X",
        "outputId": "5a62d768-64d1-443e-ead1-139b09526ea4"
      },
      "execution_count": 25,
      "outputs": [
        {
          "output_type": "execute_result",
          "data": {
            "image/svg+xml": "<?xml version=\"1.0\" encoding=\"UTF-8\" standalone=\"no\"?>\n<!DOCTYPE svg PUBLIC \"-//W3C//DTD SVG 1.1//EN\"\n \"http://www.w3.org/Graphics/SVG/1.1/DTD/svg11.dtd\">\n<!-- Generated by graphviz version 2.43.0 (0)\n -->\n<!-- Title: %3 Pages: 1 -->\n<svg width=\"332pt\" height=\"338pt\"\n viewBox=\"0.00 0.00 332.00 338.00\" xmlns=\"http://www.w3.org/2000/svg\" xmlns:xlink=\"http://www.w3.org/1999/xlink\">\n<g id=\"graph0\" class=\"graph\" transform=\"scale(1 1) rotate(0) translate(4 334)\">\n<title>%3</title>\n<polygon fill=\"white\" stroke=\"transparent\" points=\"-4,4 -4,-334 328,-334 328,4 -4,4\"/>\n<!-- 133530994521200 -->\n<g id=\"node1\" class=\"node\">\n<title>133530994521200</title>\n<polygon fill=\"#caff70\" stroke=\"black\" points=\"243.5,-31 189.5,-31 189.5,0 243.5,0 243.5,-31\"/>\n<text text-anchor=\"middle\" x=\"216.5\" y=\"-7\" font-family=\"monospace\" font-size=\"10.00\"> ()</text>\n</g>\n<!-- 133530994023952 -->\n<g id=\"node2\" class=\"node\">\n<title>133530994023952</title>\n<polygon fill=\"lightgrey\" stroke=\"black\" points=\"273,-86 160,-86 160,-67 273,-67 273,-86\"/>\n<text text-anchor=\"middle\" x=\"216.5\" y=\"-74\" font-family=\"monospace\" font-size=\"10.00\">SigmoidBackward0</text>\n</g>\n<!-- 133530994023952&#45;&gt;133530994521200 -->\n<g id=\"edge9\" class=\"edge\">\n<title>133530994023952&#45;&gt;133530994521200</title>\n<path fill=\"none\" stroke=\"black\" d=\"M216.5,-66.79C216.5,-60.07 216.5,-50.4 216.5,-41.34\"/>\n<polygon fill=\"black\" stroke=\"black\" points=\"220,-41.19 216.5,-31.19 213,-41.19 220,-41.19\"/>\n</g>\n<!-- 133530994021072 -->\n<g id=\"node3\" class=\"node\">\n<title>133530994021072</title>\n<polygon fill=\"lightgrey\" stroke=\"black\" points=\"261,-141 172,-141 172,-122 261,-122 261,-141\"/>\n<text text-anchor=\"middle\" x=\"216.5\" y=\"-129\" font-family=\"monospace\" font-size=\"10.00\">MulBackward0</text>\n</g>\n<!-- 133530994021072&#45;&gt;133530994023952 -->\n<g id=\"edge1\" class=\"edge\">\n<title>133530994021072&#45;&gt;133530994023952</title>\n<path fill=\"none\" stroke=\"black\" d=\"M216.5,-121.75C216.5,-114.8 216.5,-104.85 216.5,-96.13\"/>\n<polygon fill=\"black\" stroke=\"black\" points=\"220,-96.09 216.5,-86.09 213,-96.09 220,-96.09\"/>\n</g>\n<!-- 133530994031296 -->\n<g id=\"node4\" class=\"node\">\n<title>133530994031296</title>\n<polygon fill=\"lightgrey\" stroke=\"black\" points=\"205,-196 116,-196 116,-177 205,-177 205,-196\"/>\n<text text-anchor=\"middle\" x=\"160.5\" y=\"-184\" font-family=\"monospace\" font-size=\"10.00\">AddBackward0</text>\n</g>\n<!-- 133530994031296&#45;&gt;133530994021072 -->\n<g id=\"edge2\" class=\"edge\">\n<title>133530994031296&#45;&gt;133530994021072</title>\n<path fill=\"none\" stroke=\"black\" d=\"M169.5,-176.98C177.69,-169.23 190.01,-157.58 199.97,-148.14\"/>\n<polygon fill=\"black\" stroke=\"black\" points=\"202.48,-150.59 207.34,-141.17 197.67,-145.5 202.48,-150.59\"/>\n</g>\n<!-- 133530994030768 -->\n<g id=\"node5\" class=\"node\">\n<title>133530994030768</title>\n<polygon fill=\"lightgrey\" stroke=\"black\" points=\"101,-257 0,-257 0,-238 101,-238 101,-257\"/>\n<text text-anchor=\"middle\" x=\"50.5\" y=\"-245\" font-family=\"monospace\" font-size=\"10.00\">AccumulateGrad</text>\n</g>\n<!-- 133530994030768&#45;&gt;133530994031296 -->\n<g id=\"edge3\" class=\"edge\">\n<title>133530994030768&#45;&gt;133530994031296</title>\n<path fill=\"none\" stroke=\"black\" d=\"M66.73,-237.79C84.87,-228.07 114.46,-212.2 135.54,-200.89\"/>\n<polygon fill=\"black\" stroke=\"black\" points=\"137.4,-203.86 144.56,-196.05 134.09,-197.69 137.4,-203.86\"/>\n</g>\n<!-- 133530994522480 -->\n<g id=\"node6\" class=\"node\">\n<title>133530994522480</title>\n<polygon fill=\"lightblue\" stroke=\"black\" points=\"77.5,-330 23.5,-330 23.5,-299 77.5,-299 77.5,-330\"/>\n<text text-anchor=\"middle\" x=\"50.5\" y=\"-306\" font-family=\"monospace\" font-size=\"10.00\"> ()</text>\n</g>\n<!-- 133530994522480&#45;&gt;133530994030768 -->\n<g id=\"edge4\" class=\"edge\">\n<title>133530994522480&#45;&gt;133530994030768</title>\n<path fill=\"none\" stroke=\"black\" d=\"M50.5,-298.75C50.5,-289.39 50.5,-277.19 50.5,-267.16\"/>\n<polygon fill=\"black\" stroke=\"black\" points=\"54,-267.02 50.5,-257.02 47,-267.02 54,-267.02\"/>\n</g>\n<!-- 133530994028800 -->\n<g id=\"node7\" class=\"node\">\n<title>133530994028800</title>\n<polygon fill=\"lightgrey\" stroke=\"black\" points=\"220,-257 119,-257 119,-238 220,-238 220,-257\"/>\n<text text-anchor=\"middle\" x=\"169.5\" y=\"-245\" font-family=\"monospace\" font-size=\"10.00\">AccumulateGrad</text>\n</g>\n<!-- 133530994028800&#45;&gt;133530994031296 -->\n<g id=\"edge5\" class=\"edge\">\n<title>133530994028800&#45;&gt;133530994031296</title>\n<path fill=\"none\" stroke=\"black\" d=\"M168.17,-237.79C166.91,-229.52 164.97,-216.79 163.35,-206.21\"/>\n<polygon fill=\"black\" stroke=\"black\" points=\"166.8,-205.6 161.83,-196.24 159.88,-206.65 166.8,-205.6\"/>\n</g>\n<!-- 133530994521120 -->\n<g id=\"node8\" class=\"node\">\n<title>133530994521120</title>\n<polygon fill=\"lightblue\" stroke=\"black\" points=\"196.5,-330 142.5,-330 142.5,-299 196.5,-299 196.5,-330\"/>\n<text text-anchor=\"middle\" x=\"169.5\" y=\"-306\" font-family=\"monospace\" font-size=\"10.00\"> ()</text>\n</g>\n<!-- 133530994521120&#45;&gt;133530994028800 -->\n<g id=\"edge6\" class=\"edge\">\n<title>133530994521120&#45;&gt;133530994028800</title>\n<path fill=\"none\" stroke=\"black\" d=\"M169.5,-298.75C169.5,-289.39 169.5,-277.19 169.5,-267.16\"/>\n<polygon fill=\"black\" stroke=\"black\" points=\"173,-267.02 169.5,-257.02 166,-267.02 173,-267.02\"/>\n</g>\n<!-- 133530994032400 -->\n<g id=\"node9\" class=\"node\">\n<title>133530994032400</title>\n<polygon fill=\"lightgrey\" stroke=\"black\" points=\"324,-196 223,-196 223,-177 324,-177 324,-196\"/>\n<text text-anchor=\"middle\" x=\"273.5\" y=\"-184\" font-family=\"monospace\" font-size=\"10.00\">AccumulateGrad</text>\n</g>\n<!-- 133530994032400&#45;&gt;133530994021072 -->\n<g id=\"edge7\" class=\"edge\">\n<title>133530994032400&#45;&gt;133530994021072</title>\n<path fill=\"none\" stroke=\"black\" d=\"M264.34,-176.98C256,-169.23 243.47,-157.58 233.32,-148.14\"/>\n<polygon fill=\"black\" stroke=\"black\" points=\"235.53,-145.42 225.82,-141.17 230.76,-150.54 235.53,-145.42\"/>\n</g>\n<!-- 133530994522560 -->\n<g id=\"node10\" class=\"node\">\n<title>133530994522560</title>\n<polygon fill=\"lightblue\" stroke=\"black\" points=\"300.5,-263 246.5,-263 246.5,-232 300.5,-232 300.5,-263\"/>\n<text text-anchor=\"middle\" x=\"273.5\" y=\"-239\" font-family=\"monospace\" font-size=\"10.00\"> ()</text>\n</g>\n<!-- 133530994522560&#45;&gt;133530994032400 -->\n<g id=\"edge8\" class=\"edge\">\n<title>133530994522560&#45;&gt;133530994032400</title>\n<path fill=\"none\" stroke=\"black\" d=\"M273.5,-231.92C273.5,-224.22 273.5,-214.69 273.5,-206.43\"/>\n<polygon fill=\"black\" stroke=\"black\" points=\"277,-206.25 273.5,-196.25 270,-206.25 277,-206.25\"/>\n</g>\n</g>\n</svg>\n",
            "text/plain": [
              "<graphviz.graphs.Digraph at 0x79721b773190>"
            ]
          },
          "metadata": {},
          "execution_count": 25
        }
      ]
    },
    {
      "cell_type": "code",
      "source": [
        "print(e), e.grad_fn.next_functions"
      ],
      "metadata": {
        "colab": {
          "base_uri": "https://localhost:8080/"
        },
        "id": "IT8dD5ds4v59",
        "outputId": "fc137a8d-6657-449a-a214-515bae1e385a"
      },
      "execution_count": 23,
      "outputs": [
        {
          "output_type": "stream",
          "name": "stdout",
          "text": [
            "tensor(20., grad_fn=<MulBackward0>)\n"
          ]
        },
        {
          "output_type": "execute_result",
          "data": {
            "text/plain": [
              "(None,\n",
              " ((<AddBackward0 at 0x79721b7713c0>, 0),\n",
              "  (<AccumulateGrad at 0x79721b770850>, 0)))"
            ]
          },
          "metadata": {},
          "execution_count": 23
        }
      ]
    },
    {
      "cell_type": "markdown",
      "source": [
        "## Building a **linear regression** model"
      ],
      "metadata": {
        "id": "5xd1rHUQAr3b"
      }
    },
    {
      "cell_type": "code",
      "source": [
        "weight = 0.7\n",
        "bias = 0.3\n",
        "start, end = 0, 1\n",
        "step = 0.02"
      ],
      "metadata": {
        "id": "ucpr0nweSCN4"
      },
      "execution_count": 96,
      "outputs": []
    },
    {
      "cell_type": "code",
      "source": [
        "import torch\n",
        "X = torch.arange(start, end, step)"
      ],
      "metadata": {
        "id": "VVeE_6HRUiBv"
      },
      "execution_count": 97,
      "outputs": []
    },
    {
      "cell_type": "code",
      "source": [
        "X = X.unsqueeze(1)\n",
        "X.shape"
      ],
      "metadata": {
        "colab": {
          "base_uri": "https://localhost:8080/"
        },
        "id": "T2f0xLdVXDGS",
        "outputId": "8a2bb17f-9340-49be-ebe9-ba9d3fb8c519"
      },
      "execution_count": 98,
      "outputs": [
        {
          "output_type": "execute_result",
          "data": {
            "text/plain": [
              "torch.Size([50, 1])"
            ]
          },
          "metadata": {},
          "execution_count": 98
        }
      ]
    },
    {
      "cell_type": "code",
      "source": [
        "y = X * weight + bias\n",
        "#y = y + 0.01**0.5*torch.randn(y.shape)"
      ],
      "metadata": {
        "id": "WR6clv_WUn1Y"
      },
      "execution_count": 99,
      "outputs": []
    },
    {
      "cell_type": "code",
      "source": [
        "X.shape"
      ],
      "metadata": {
        "colab": {
          "base_uri": "https://localhost:8080/"
        },
        "id": "BTOdD2nVUt6k",
        "outputId": "6e04682b-92d5-4b0b-aa6a-29ce5a26e09b"
      },
      "execution_count": 100,
      "outputs": [
        {
          "output_type": "execute_result",
          "data": {
            "text/plain": [
              "torch.Size([50, 1])"
            ]
          },
          "metadata": {},
          "execution_count": 100
        }
      ]
    },
    {
      "cell_type": "code",
      "source": [
        "train_split = int(0.8 * len(X))"
      ],
      "metadata": {
        "id": "6TAz22mdWaXJ"
      },
      "execution_count": 101,
      "outputs": []
    },
    {
      "cell_type": "code",
      "source": [
        "train_split"
      ],
      "metadata": {
        "colab": {
          "base_uri": "https://localhost:8080/"
        },
        "id": "1J07RIuRW4ip",
        "outputId": "bcb253ad-c687-43ae-ebe4-7f6d9555667b"
      },
      "execution_count": 102,
      "outputs": [
        {
          "output_type": "execute_result",
          "data": {
            "text/plain": [
              "40"
            ]
          },
          "metadata": {},
          "execution_count": 102
        }
      ]
    },
    {
      "cell_type": "code",
      "source": [
        "X_train, y_train = X[:train_split], y[:train_split]\n",
        "X_test, y_test = X[train_split:], y[train_split:]"
      ],
      "metadata": {
        "id": "6Dv3cDN9YsdD"
      },
      "execution_count": 103,
      "outputs": []
    },
    {
      "cell_type": "code",
      "source": [
        "import matplotlib.pyplot as plt\n",
        "plt.figure(figsize=(10, 7))\n",
        "plt.scatter(X_train, y_train, c='b')\n",
        "plt.scatter(X_test, y_test, c='r')"
      ],
      "metadata": {
        "colab": {
          "base_uri": "https://localhost:8080/",
          "height": 616
        },
        "id": "7BN1c4cwXuLZ",
        "outputId": "7eb74b6b-a81f-4e7e-daca-59a081ded594"
      },
      "execution_count": 104,
      "outputs": [
        {
          "output_type": "execute_result",
          "data": {
            "text/plain": [
              "<matplotlib.collections.PathCollection at 0x7972189d60e0>"
            ]
          },
          "metadata": {},
          "execution_count": 104
        },
        {
          "output_type": "display_data",
          "data": {
            "text/plain": [
              "<Figure size 1000x700 with 1 Axes>"
            ],
            "image/png": "[encoded data removed]"
          },
          "metadata": {}
        }
      ]
    },
    {
      "cell_type": "code",
      "source": [
        "torch.manual_seed(42)"
      ],
      "metadata": {
        "colab": {
          "base_uri": "https://localhost:8080/"
        },
        "id": "RylC_Jv63JlP",
        "outputId": "efcac048-d6bf-41ed-98d2-05d0a3274d69"
      },
      "execution_count": 105,
      "outputs": [
        {
          "output_type": "execute_result",
          "data": {
            "text/plain": [
              "<torch._C.Generator at 0x7972e4201630>"
            ]
          },
          "metadata": {},
          "execution_count": 105
        }
      ]
    },
    {
      "cell_type": "code",
      "source": [
        "import torch\n",
        "import torch.nn as nn\n",
        "class LinearRegression(nn.Module):\n",
        "    def __init__(self):\n",
        "        super().__init__()\n",
        "        self.weights = nn.Parameter(torch.rand(1, dtype=torch.float32))\n",
        "        self.bias = nn.Parameter(torch.randn(1))\n",
        "\n",
        "    def forward(self, x:torch.Tensor):\n",
        "        return self.weights*x + self.bias"
      ],
      "metadata": {
        "id": "dhwu5SZgW5wr"
      },
      "execution_count": 106,
      "outputs": []
    },
    {
      "cell_type": "code",
      "source": [
        "model_0 = LinearRegression()"
      ],
      "metadata": {
        "id": "RmP6ChYKh5Zh"
      },
      "execution_count": 107,
      "outputs": []
    },
    {
      "cell_type": "code",
      "source": [
        "list(model_0.parameters())"
      ],
      "metadata": {
        "colab": {
          "base_uri": "https://localhost:8080/"
        },
        "id": "L_H8U9mX3C-P",
        "outputId": "a81bf38c-0fce-4412-e259-71411e080cf5"
      },
      "execution_count": 108,
      "outputs": [
        {
          "output_type": "execute_result",
          "data": {
            "text/plain": [
              "[Parameter containing:\n",
              " tensor([0.8823], requires_grad=True),\n",
              " Parameter containing:\n",
              " tensor([-0.6382], requires_grad=True)]"
            ]
          },
          "metadata": {},
          "execution_count": 108
        }
      ]
    },
    {
      "cell_type": "code",
      "source": [
        "model_0.state_dict()"
      ],
      "metadata": {
        "colab": {
          "base_uri": "https://localhost:8080/"
        },
        "id": "ZL9JWIin3TUl",
        "outputId": "5996edbe-a133-4dd0-995e-65d25e2a2a75"
      },
      "execution_count": 109,
      "outputs": [
        {
          "output_type": "execute_result",
          "data": {
            "text/plain": [
              "OrderedDict([('weights', tensor([0.8823])), ('bias', tensor([-0.6382]))])"
            ]
          },
          "metadata": {},
          "execution_count": 109
        }
      ]
    },
    {
      "cell_type": "code",
      "source": [
        "f'real parameters of the distribution = {weight}, {bias}'"
      ],
      "metadata": {
        "colab": {
          "base_uri": "https://localhost:8080/",
          "height": 35
        },
        "id": "Ws2BANNv4uwB",
        "outputId": "cb9a01d8-fbdd-45ee-efaf-965bbf5a19fa"
      },
      "execution_count": 110,
      "outputs": [
        {
          "output_type": "execute_result",
          "data": {
            "text/plain": [
              "'real parameters of the distribution = 0.7, 0.3'"
            ],
            "application/vnd.google.colaboratory.intrinsic+json": {
              "type": "string"
            }
          },
          "metadata": {},
          "execution_count": 110
        }
      ]
    },
    {
      "cell_type": "code",
      "source": [
        "with torch.inference_mode():\n",
        "    y_preds = model_0(X_test)\n",
        "y_preds"
      ],
      "metadata": {
        "colab": {
          "base_uri": "https://localhost:8080/"
        },
        "id": "MijhZ8hl498u",
        "outputId": "5999d472-c9e5-4165-97c4-4ff85f35d852"
      },
      "execution_count": 111,
      "outputs": [
        {
          "output_type": "execute_result",
          "data": {
            "text/plain": [
              "tensor([[0.0677],\n",
              "        [0.0853],\n",
              "        [0.1030],\n",
              "        [0.1206],\n",
              "        [0.1382],\n",
              "        [0.1559],\n",
              "        [0.1735],\n",
              "        [0.1912],\n",
              "        [0.2088],\n",
              "        [0.2265]])"
            ]
          },
          "metadata": {},
          "execution_count": 111
        }
      ]
    },
    {
      "cell_type": "code",
      "source": [
        "plt.scatter(X_test, y_test, c='b')\n",
        "plt.scatter(X_test, y_preds, c='r')\n",
        "plt.show()"
      ],
      "metadata": {
        "colab": {
          "base_uri": "https://localhost:8080/",
          "height": 430
        },
        "id": "fAkgkSLb5Zi-",
        "outputId": "ab49f884-4fd8-439b-9f45-3798f3dd38ee"
      },
      "execution_count": 112,
      "outputs": [
        {
          "output_type": "display_data",
          "data": {
            "text/plain": [
              "<Figure size 640x480 with 1 Axes>"
            ],
            "image/png": "[encoded data removed]"
          },
          "metadata": {}
        }
      ]
    },
    {
      "cell_type": "code",
      "source": [
        "loss_fn = nn.L1Loss()\n",
        "optim = torch.optim.SGD(model_0.parameters(), lr=1e-2)"
      ],
      "metadata": {
        "id": "ohWIRZrJ6J4c"
      },
      "execution_count": 113,
      "outputs": []
    },
    {
      "cell_type": "code",
      "source": [
        "with torch.inference_mode():\n",
        "    list(model_0.parameters())"
      ],
      "metadata": {
        "id": "zX1XJWRFAkk4"
      },
      "execution_count": 114,
      "outputs": []
    },
    {
      "cell_type": "code",
      "source": [
        "epochs = 1000\n",
        "loss_values = []\n",
        "for epoch in range(epochs):\n",
        "    model_0.train()\n",
        "    y_pred = model_0(X_train)\n",
        "    loss = loss_fn(y_pred, y_train)\n",
        "    loss_values.append(loss.item())\n",
        "    optim.zero_grad()\n",
        "    loss.backward()\n",
        "    optim.step()\n",
        "print (model_0.state_dict())\n"
      ],
      "metadata": {
        "colab": {
          "base_uri": "https://localhost:8080/"
        },
        "id": "bW0ZcoUo-unu",
        "outputId": "5fdf1257-624e-46de-9207-88e98553da91"
      },
      "execution_count": 115,
      "outputs": [
        {
          "output_type": "stream",
          "name": "stdout",
          "text": [
            "OrderedDict([('weights', tensor([0.7083])), ('bias', tensor([0.3038]))])\n"
          ]
        }
      ]
    },
    {
      "cell_type": "code",
      "source": [
        "len(loss_values)"
      ],
      "metadata": {
        "colab": {
          "base_uri": "https://localhost:8080/"
        },
        "id": "-cFKlbjrGEiO",
        "outputId": "3e95fac3-7fb8-43b6-b992-2e922dfc5efd"
      },
      "execution_count": 118,
      "outputs": [
        {
          "output_type": "execute_result",
          "data": {
            "text/plain": [
              "1000"
            ]
          },
          "metadata": {},
          "execution_count": 118
        }
      ]
    },
    {
      "cell_type": "code",
      "source": [
        "plt.plot(range(epochs), loss_values)"
      ],
      "metadata": {
        "colab": {
          "base_uri": "https://localhost:8080/",
          "height": 447
        },
        "id": "VsIlBGdrFftp",
        "outputId": "5c048855-7876-4357-cb9e-5446b3d9ea0c"
      },
      "execution_count": 116,
      "outputs": [
        {
          "output_type": "execute_result",
          "data": {
            "text/plain": [
              "[<matplotlib.lines.Line2D at 0x797218a89420>]"
            ]
          },
          "metadata": {},
          "execution_count": 116
        },
        {
          "output_type": "display_data",
          "data": {
            "text/plain": [
              "<Figure size 640x480 with 1 Axes>"
            ],
            "image/png": "[encoded data removed]"
          },
          "metadata": {}
        }
      ]
    },
    {
      "cell_type": "code",
      "source": [
        "model_0.eval()\n",
        "with torch.inference_mode():\n",
        "    y_preds = model_0(X_test)\n",
        "y_preds"
      ],
      "metadata": {
        "colab": {
          "base_uri": "https://localhost:8080/"
        },
        "id": "ckIsq1WkC_N_",
        "outputId": "b71e1d04-ccc7-493b-ae3f-72409bedad35"
      },
      "execution_count": 119,
      "outputs": [
        {
          "output_type": "execute_result",
          "data": {
            "text/plain": [
              "tensor([[0.8705],\n",
              "        [0.8846],\n",
              "        [0.8988],\n",
              "        [0.9130],\n",
              "        [0.9271],\n",
              "        [0.9413],\n",
              "        [0.9555],\n",
              "        [0.9696],\n",
              "        [0.9838],\n",
              "        [0.9980]])"
            ]
          },
          "metadata": {},
          "execution_count": 119
        }
      ]
    },
    {
      "cell_type": "code",
      "source": [
        "plt.scatter(X_test, y_test, c='b')\n",
        "plt.scatter(X_test, y_preds, c='r')\n",
        "plt.show()"
      ],
      "metadata": {
        "colab": {
          "base_uri": "https://localhost:8080/",
          "height": 430
        },
        "id": "iwAq_VMUDXND",
        "outputId": "1163c9e1-8b46-41a6-bfce-126652408bc4"
      },
      "execution_count": 120,
      "outputs": [
        {
          "output_type": "display_data",
          "data": {
            "text/plain": [
              "<Figure size 640x480 with 1 Axes>"
            ],
            "image/png": "[encoded data removed]"
          },
          "metadata": {}
        }
      ]
    },
    {
      "cell_type": "code",
      "source": [],
      "metadata": {
        "id": "7P1v3EUQPzpZ"
      },
      "execution_count": null,
      "outputs": []
    }
  ]
}